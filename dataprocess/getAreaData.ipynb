{
  "nbformat": 4,
  "nbformat_minor": 0,
  "metadata": {
    "colab": {
      "provenance": []
    },
    "kernelspec": {
      "name": "python3",
      "display_name": "Python 3"
    },
    "language_info": {
      "name": "python"
    }
  },
  "cells": [
    {
      "cell_type": "code",
      "source": [
        "from google.colab import drive\n",
        "drive.mount('/content/drive')"
      ],
      "metadata": {
        "colab": {
          "base_uri": "https://localhost:8080/"
        },
        "id": "0mgFkZ2OpL4s",
        "outputId": "c0f39e23-5d9f-4cf9-985b-3b3cf9eb669b"
      },
      "execution_count": null,
      "outputs": [
        {
          "output_type": "stream",
          "name": "stdout",
          "text": [
            "Mounted at /content/drive\n"
          ]
        }
      ]
    },
    {
      "cell_type": "code",
      "execution_count": null,
      "metadata": {
        "colab": {
          "base_uri": "https://localhost:8080/"
        },
        "id": "G4anz6XZm5no",
        "outputId": "966414d1-4560-4e6a-8d63-805a14a43823"
      },
      "outputs": [
        {
          "output_type": "stream",
          "name": "stderr",
          "text": [
            "WARNING:urllib3.connectionpool:Retrying (Retry(total=1, connect=None, read=None, redirect=None, status=None)) after connection broken by 'ReadTimeoutError(\"HTTPSConnectionPool(host='nominatim.openstreetmap.org', port=443): Read timed out. (read timeout=1)\")': /search?q=Alphabet+City%2C+Manhattan%2C+New+York+City&format=json&limit=1\n",
            "WARNING:urllib3.connectionpool:Retrying (Retry(total=1, connect=None, read=None, redirect=None, status=None)) after connection broken by 'ReadTimeoutError(\"HTTPSConnectionPool(host='nominatim.openstreetmap.org', port=443): Read timed out. (read timeout=1)\")': /search?q=Charleston%2FTottenville%2C+Staten+Island%2C+New+York+City&format=json&limit=1\n",
            "WARNING:urllib3.connectionpool:Retrying (Retry(total=0, connect=None, read=None, redirect=None, status=None)) after connection broken by 'ReadTimeoutError(\"HTTPSConnectionPool(host='nominatim.openstreetmap.org', port=443): Read timed out. (read timeout=1)\")': /search?q=Charleston%2FTottenville%2C+Staten+Island%2C+New+York+City&format=json&limit=1\n",
            "WARNING:urllib3.connectionpool:Retrying (Retry(total=1, connect=None, read=None, redirect=None, status=None)) after connection broken by 'ReadTimeoutError(\"HTTPSConnectionPool(host='nominatim.openstreetmap.org', port=443): Read timed out. (read timeout=1)\")': /search?q=Governor%27s+Island%2FEllis+Island%2FLiberty+Island%2C+Manhattan%2C+New+York+City&format=json&limit=1\n",
            "WARNING:urllib3.connectionpool:Retrying (Retry(total=1, connect=None, read=None, redirect=None, status=None)) after connection broken by 'ReadTimeoutError(\"HTTPSConnectionPool(host='nominatim.openstreetmap.org', port=443): Read timed out. (read timeout=1)\")': /search?q=Governor%27s+Island%2FEllis+Island%2FLiberty+Island%2C+Manhattan%2C+New+York+City&format=json&limit=1\n",
            "WARNING:urllib3.connectionpool:Retrying (Retry(total=1, connect=None, read=None, redirect=None, status=None)) after connection broken by 'ReadTimeoutError(\"HTTPSConnectionPool(host='nominatim.openstreetmap.org', port=443): Read timed out. (read timeout=1)\")': /search?q=Lenox+Hill+East%2C+Manhattan%2C+New+York+City&format=json&limit=1\n",
            "WARNING:urllib3.connectionpool:Retrying (Retry(total=1, connect=None, read=None, redirect=None, status=None)) after connection broken by 'ReadTimeoutError(\"HTTPSConnectionPool(host='nominatim.openstreetmap.org', port=443): Read timed out. (read timeout=1)\")': /search?q=Marine+Park%2FFloyd+Bennett+Field%2C+Brooklyn%2C+New+York+City&format=json&limit=1\n",
            "WARNING:urllib3.connectionpool:Retrying (Retry(total=0, connect=None, read=None, redirect=None, status=None)) after connection broken by 'ReadTimeoutError(\"HTTPSConnectionPool(host='nominatim.openstreetmap.org', port=443): Read timed out. (read timeout=1)\")': /search?q=Marine+Park%2FFloyd+Bennett+Field%2C+Brooklyn%2C+New+York+City&format=json&limit=1\n",
            "WARNING:urllib3.connectionpool:Retrying (Retry(total=1, connect=None, read=None, redirect=None, status=None)) after connection broken by 'ReadTimeoutError(\"HTTPSConnectionPool(host='nominatim.openstreetmap.org', port=443): Read timed out. (read timeout=1)\")': /search?q=South+Beach%2FDongan+Hills%2C+Staten+Island%2C+New+York+City&format=json&limit=1\n"
          ]
        }
      ],
      "source": [
        "import pandas as pd\n",
        "from geopy.geocoders import Nominatim\n",
        "import time\n",
        "\n",
        "# 读取 Zone Lookup 数据\n",
        "df_zone = pd.read_csv(\"/content/drive/MyDrive/NYC_yellow_taxi/taxi_zone_lookup.csv\")\n",
        "\n",
        "# 初始化地理编码器\n",
        "geolocator = Nominatim(user_agent=\"nyc_taxi_locator\")\n",
        "\n",
        "# 新增列保存经纬度\n",
        "df_zone[\"lat\"] = None\n",
        "df_zone[\"lon\"] = None\n",
        "\n",
        "# 逐行获取经纬度\n",
        "for idx, row in df_zone.iterrows():\n",
        "    location_name = f\"{row['Zone']}, {row['Borough']}, New York City\"\n",
        "    try:\n",
        "        location = geolocator.geocode(location_name)\n",
        "        if location:\n",
        "            df_zone.at[idx, \"lat\"] = location.latitude\n",
        "            df_zone.at[idx, \"lon\"] = location.longitude\n",
        "        time.sleep(1)  # 避免请求过快被封\n",
        "    except:\n",
        "        continue\n",
        "\n",
        "# 保存结果\n",
        "df_zone.to_csv(\"/content/drive/MyDrive/NYC_yellow_taxi/taxi_zone_with_coords.csv\", index=False)\n"
      ]
    },
    {
      "cell_type": "code",
      "source": [],
      "metadata": {
        "id": "rj8LcGZUpqh5"
      },
      "execution_count": null,
      "outputs": []
    }
  ]
}